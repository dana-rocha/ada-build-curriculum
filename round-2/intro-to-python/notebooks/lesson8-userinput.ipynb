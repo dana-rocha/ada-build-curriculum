{
  "nbformat": 4,
  "nbformat_minor": 0,
  "metadata": {
    "colab": {
      "name": "lesson8-userinput.ipynb",
      "provenance": [],
      "collapsed_sections": []
    },
    "kernelspec": {
      "name": "python3",
      "display_name": "Python 3"
    }
  },
  "cells": [
    {
      "cell_type": "markdown",
      "metadata": {
        "id": "EYQAA-id-Fwv"
      },
      "source": [
        "# User Input\n",
        "\n",
        "Ada Build - Intro to Python - Optional Lesson"
      ]
    },
    {
      "cell_type": "markdown",
      "metadata": {
        "id": "R2XhRNj3-QLb"
      },
      "source": [
        "## Learning Goals\n",
        "\n",
        "By the end of this lesson we will be able to:\n",
        "* Prompt the user for input.\n",
        "* Store and manipulate user input. "
      ]
    },
    {
      "cell_type": "markdown",
      "metadata": {
        "id": "FKGt45j1-d2Q"
      },
      "source": [
        "## Introduction\n",
        "\n",
        "This lesson on user input can be completed after completing Lesson 01 - Hello World and Lesson 02 - Programming Grammar.\n",
        "\n",
        "User input is not covered in the Ada Build curriculum, and the concept is not required for the Ada application process. However, gathering input from the user is a powerful tool that can allow us to make fun, interactive programs.\n",
        "\n"
      ]
    },
    {
      "cell_type": "markdown",
      "metadata": {
        "id": "mikxJjWOzjlh"
      },
      "source": [
        "## The `input` Function\n",
        "\n",
        "In this lesson, we will learn how to prompt the user for input and store this input in a variable so that it can be manipulated as needed for the program.\n",
        "\n",
        "Let's start by looking at an example:"
      ]
    },
    {
      "cell_type": "code",
      "metadata": {
        "id": "axEhcXnl-k1f",
        "colab": {
          "base_uri": "https://localhost:8080/"
        },
        "outputId": "680327a5-bb77-4496-b80e-a71b69df217e"
      },
      "source": [
        "# prompt the user for their name\n",
        "name = input(\"What is your name? \")\n",
        "\n",
        "# output \"Welcome, <name>!\" \n",
        "print(f\"Welcome, {name}!\")"
      ],
      "execution_count": 1,
      "outputs": [
        {
          "output_type": "stream",
          "name": "stdout",
          "text": [
            "What is your name? dana\n",
            "Welcome, dana!\n"
          ]
        }
      ]
    },
    {
      "cell_type": "markdown",
      "metadata": {
        "id": "Rkg89x1B-mfW"
      },
      "source": [
        "`input` is a *function* that takes a *string* as an *argument*.\n",
        "\n",
        "Let's take a look at another example."
      ]
    },
    {
      "cell_type": "code",
      "metadata": {
        "id": "gxlFsdh4-tP2",
        "colab": {
          "base_uri": "https://localhost:8080/"
        },
        "outputId": "50041068-9b75-40ab-e3c7-6da5097538b0"
      },
      "source": [
        "# prompt the user for their age\n",
        "age = input(\"How old are you? \")\n",
        "\n",
        "# output the difference in your ages \n",
        "print(f\"That's a great age! I am {36 - age} years older than you\")"
      ],
      "execution_count": 2,
      "outputs": [
        {
          "output_type": "stream",
          "name": "stdout",
          "text": [
            "How old are you? 18\n",
            "That's a great age! I am 18 years older than you\n"
          ]
        }
      ]
    },
    {
      "cell_type": "markdown",
      "metadata": {
        "id": "gC6gG6pp-u7L"
      },
      "source": [
        "Notice that this code produces an error. \n",
        "\n",
        "Take a moment to investigate the error.\n",
        "\n",
        "You can view the explanation of the error and the solution below.\n"
      ]
    },
    {
      "cell_type": "markdown",
      "metadata": {
        "id": "l94Y95g6-_uv"
      },
      "source": [
        "```\n",
        "Traceback (most recent call last):\n",
        "File \"main.py\", line 5, in <module>\n",
        "print(f\"That's a great age! I am {36 - age} years older than you\")\n",
        "TypeError: unsupported operand type(s) for -: 'int' and 'str'\n",
        "```\n",
        "\n",
        "There's a `TypeError`. Specically the operand `-` can't be used with an `int` and a `str`.  \n",
        "\n",
        "Our next step in figuring out our bug is to check what type our variables are. We will see that `age` is a _string_. This is because the _input_ function always returns a _string_.\n",
        "\n",
        "We can convert an _string_ to a _int_ using the function `int`. Similarly we can convert a _int_ to an _string_ using the function `str`.\n",
        "\n",
        "A bug free program that behaves as intended looks like this:"
      ]
    },
    {
      "cell_type": "code",
      "metadata": {
        "id": "QA6gDHYR_Pb1",
        "colab": {
          "base_uri": "https://localhost:8080/"
        },
        "outputId": "c801fc02-4d80-4129-8622-73d70a76d3aa"
      },
      "source": [
        "# prompt the user for their age\n",
        "age = input(\"How old are you? \")\n",
        "\n",
        "# convert age to an int\n",
        "age = int(age)\n",
        "\n",
        "# output the difference in your ages \n",
        "print(f\"That's a great age! I am {36 - age} years older than you\")\n"
      ],
      "execution_count": 3,
      "outputs": [
        {
          "output_type": "stream",
          "name": "stdout",
          "text": [
            "How old are you? 25\n",
            "That's a great age! I am 11 years older than you\n"
          ]
        }
      ]
    },
    {
      "cell_type": "markdown",
      "metadata": {
        "id": "MA1gnB6f_boA"
      },
      "source": [
        "## Exercise: Numbers\n",
        "\n",
        "Leveraging our learnings from the concepts we've learned thus far, write a program that does the following:\n",
        "\n",
        "* Do the following three times:\n",
        "    * Ask the user to input a positive integer value.\n",
        "    * Convert the user input to an integer and save the value in a variable.\n",
        "* Add 20 to each of the three numbers and print this new value for each to the console. The output should look something like \n",
        "\n",
        "`Twenty added to the numbers you entered gives us 24, 73 and 42.`\n",
        "\n",
        "Complete your code in the code cell below:"
      ]
    },
    {
      "cell_type": "code",
      "metadata": {
        "id": "uYIMwVye_fMk",
        "colab": {
          "base_uri": "https://localhost:8080/"
        },
        "outputId": "2914fb72-0c2f-47d7-bf9b-f5cbc86067fd"
      },
      "source": [
        "first = input(\"Please input a positive integer value: \")\n",
        "second = input(\"Please enter another positive integer value: \")\n",
        "third = input(\"Please enter another positive integer value: \")\n",
        "\n",
        "print(\"Twenty added to the numbers you entered gives us: {}, {}, {}\".format(int(first) + 20, int(second) + 20, int(third) + 20))"
      ],
      "execution_count": 4,
      "outputs": [
        {
          "output_type": "stream",
          "name": "stdout",
          "text": [
            "Please input a positive integer value: 20\n",
            "Please enter another positive integer value: 4\n",
            "Please enter another positive integer value: 1\n",
            "Twenty added to the numbers you entered gives us: 40, 24, 21\n"
          ]
        }
      ]
    }
  ]
}