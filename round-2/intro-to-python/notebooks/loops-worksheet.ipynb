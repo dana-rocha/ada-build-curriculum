{
  "nbformat": 4,
  "nbformat_minor": 0,
  "metadata": {
    "colab": {
      "name": "loops-worksheet.ipynb",
      "private_outputs": true,
      "provenance": [],
      "collapsed_sections": [],
      "toc_visible": true
    },
    "kernelspec": {
      "name": "python3",
      "display_name": "Python 3"
    }
  },
  "cells": [
    {
      "cell_type": "markdown",
      "metadata": {
        "id": "GjiT5wV8ePK_"
      },
      "source": [
        "# Loops Worksheet\n",
        "\n",
        "Read the code in each section, then write exactly what the code prints out. Use a loop table to help you track each variable for each iteration.\n",
        "\n",
        "Each problem stands alone. Variables from previous problems do not exist.\n",
        "\n",
        "Once you've completed the problem, check your answers in a code cell.\n"
      ]
    },
    {
      "cell_type": "markdown",
      "metadata": {
        "id": "Nw_oGqQ4eT63"
      },
      "source": [
        "## Example\n",
        "\n",
        "_Example Problem_\n",
        "```python\n",
        "x = 5\n",
        "y = 6\n",
        "print(x + y)\n",
        "```\n",
        "\n",
        "_Example Output_\n",
        "```python\n",
        "11\n",
        "```\n",
        "\n"
      ]
    },
    {
      "cell_type": "markdown",
      "metadata": {
        "id": "qQt4aBNaecYe"
      },
      "source": [
        "\n",
        "## Problem Set\n",
        "\n",
        "```python\n",
        "# problem 1\n",
        "for i in range(2):\n",
        "    print(\"dance\")\n",
        "```\n",
        "\n",
        "```python\n",
        "# problem 2\n",
        "for i in range(10):\n",
        "    print(i)\n",
        "```\n",
        "\n",
        "```python\n",
        "# problem 3\n",
        "for i in range(3):\n",
        "    print(\"coding!\")\n",
        "print(\"fun!\")\n",
        "```\n",
        "\n",
        "```python\n",
        "# problem 4\n",
        "for x in range(5):\n",
        "    print(f\"{x} chicken(s)\")\n",
        "```\n",
        "\n",
        "```python\n",
        "# problem 5\n",
        "for i in range(10):\n",
        "    print(i*10)\n",
        "```\n",
        "\n",
        "```python\n",
        "# problem 6\n",
        "for i in range(1, 5):\n",
        "    print(\"hello\")\n",
        "```\n",
        "\n",
        "```python\n",
        "# problem 7\n",
        "for i in range(1, 4):\n",
        "    print(f\"{i} animal(s)\")\n",
        "```\n",
        "\n",
        "```python\n",
        "# problem 8\n",
        "for i in range(1, 4):\n",
        "    print(i * i)\n",
        "```\n",
        "\n",
        "```python\n",
        "# problem 9\n",
        "total = 0\n",
        "\n",
        "for i in range(1, 4):\n",
        "    total = total + 1\n",
        "\n",
        "print(total)\n",
        "```\n",
        "\n",
        "```python\n",
        "# problem 10\n",
        "for x in range(1, 11):\n",
        "    if x == 5:\n",
        "        print(\"You got a winner!\")\n",
        "```\n",
        "\n",
        "```python\n",
        "# problem 11\n",
        "i = 0\n",
        "\n",
        "while i < 3:\n",
        "    print(\"hi\")\n",
        "    i = i + 1\n",
        "```\n",
        "\n",
        "```python\n",
        "# problem 12\n",
        "i = 0\n",
        "\n",
        "while i < 3:\n",
        "    print(\"hi\")\n",
        "    i = i + 1\n",
        "\n",
        "print(\"bye\")\n",
        "```\n",
        "\n",
        "\n",
        "```python\n",
        "# problem 13\n",
        "i = 0\n",
        "\n",
        "while i < 3:\n",
        "    i += 1\n",
        "    print(i)\n",
        "```\n",
        "\n",
        "```python\n",
        "# problem 14\n",
        "x = 5\n",
        "i = 0\n",
        "\n",
        "while i < 3:\n",
        "  x = x + 1\n",
        "  i = i + 1\n",
        "\n",
        "print(x)\n",
        "```\n",
        "\n",
        "```python\n",
        "# problem 15\n",
        "i = 3\n",
        "\n",
        "while i > 0:\n",
        "    print(\"ada!\")\n",
        "    i = i - 1\n",
        "```\n",
        "\n",
        "```python\n",
        "# problem 16\n",
        "i = 1\n",
        "\n",
        "while i:\n",
        "    print(\"a while\")\n",
        "```\n",
        "\n",
        "```python\n",
        "# problem 17\n",
        "i = 1\n",
        "\n",
        "while i < 100:\n",
        "    print(\"oh hai\")\n",
        "    i = i * 100\n",
        "```"
      ]
    },
    {
      "cell_type": "markdown",
      "metadata": {
        "id": "g5Yhgf1-eMTs"
      },
      "source": [
        "## Solutions\n",
        "\n",
        "Use the code cell to check your answers.\n"
      ]
    },
    {
      "cell_type": "code",
      "metadata": {
        "id": "NmwnV3MwgUKx"
      },
      "source": [
        "# problem 17\n",
        "i = 1\n",
        "\n",
        "while i < 100:\n",
        "    print(\"oh hai\")\n",
        "    i = i * 100\n",
        "\n",
        "# oh hai "
      ],
      "execution_count": null,
      "outputs": []
    },
    {
      "cell_type": "code",
      "metadata": {
        "id": "J2IyCRgygUFq"
      },
      "source": [
        "# problem 16\n",
        "i = 1\n",
        "\n",
        "while i:\n",
        "    print(\"a while\")\n",
        "\n",
        "# infinite loop printing (\"a while\")"
      ],
      "execution_count": null,
      "outputs": []
    },
    {
      "cell_type": "code",
      "metadata": {
        "id": "lzvnZnewgT-0"
      },
      "source": [
        "# problem 15\n",
        "i = 3\n",
        "\n",
        "while i > 0:\n",
        "    print(\"ada!\")\n",
        "    i = i - 1\n",
        "\n",
        "# ada!\n",
        "# ada!\n",
        "# ada!"
      ],
      "execution_count": null,
      "outputs": []
    },
    {
      "cell_type": "code",
      "metadata": {
        "id": "3igMGsuxgT5Y"
      },
      "source": [
        "# problem 14\n",
        "x = 5\n",
        "i = 0\n",
        "\n",
        "while i < 3:\n",
        "  x = x + 1\n",
        "  i = i + 1\n",
        "\n",
        "print(x)\n",
        "\n",
        "# 8 "
      ],
      "execution_count": null,
      "outputs": []
    },
    {
      "cell_type": "code",
      "metadata": {
        "id": "znhRIlobgLy4"
      },
      "source": [
        "# problem 13\n",
        "i = 0\n",
        "\n",
        "while i < 3:\n",
        "    i += 1\n",
        "    print(i)\n",
        "\n",
        "# 1\n",
        "# 2\n",
        "# 3"
      ],
      "execution_count": null,
      "outputs": []
    },
    {
      "cell_type": "code",
      "metadata": {
        "id": "QId8-MntgLwh"
      },
      "source": [
        "# problem 12\n",
        "i = 0\n",
        "\n",
        "while i < 3:\n",
        "    print(\"hi\")\n",
        "    i = i + 1\n",
        "\n",
        "print(\"bye\")\n",
        "\n",
        "# hi\n",
        "# hi\n",
        "# hi\n",
        "# bye"
      ],
      "execution_count": null,
      "outputs": []
    },
    {
      "cell_type": "code",
      "metadata": {
        "id": "rFPJQ1kagLtm"
      },
      "source": [
        "# problem 11\n",
        "i = 0\n",
        "\n",
        "while i < 3:\n",
        "    print(\"hi\")\n",
        "    i = i + 1\n",
        "\n",
        "# hi\n",
        "# hi\n",
        "# hi"
      ],
      "execution_count": null,
      "outputs": []
    },
    {
      "cell_type": "code",
      "metadata": {
        "id": "0-xBiQfigLq9"
      },
      "source": [
        "# problem 10\n",
        "for x in range(1, 11):\n",
        "    if x == 5:\n",
        "        print(\"You got a winner!\")\n",
        "# \"You got a winner!\""
      ],
      "execution_count": null,
      "outputs": []
    },
    {
      "cell_type": "code",
      "metadata": {
        "id": "fGbl7B6lfi-d"
      },
      "source": [
        "# problem 9\n",
        "total = 0\n",
        "\n",
        "for i in range(1, 4):\n",
        "    total = total + 1\n",
        "\n",
        "print(total)\n",
        "\n",
        "# 3"
      ],
      "execution_count": null,
      "outputs": []
    },
    {
      "cell_type": "code",
      "metadata": {
        "id": "aY_NItxFfi8L"
      },
      "source": [
        "# problem 8\n",
        "for i in range(1, 4):\n",
        "    print(i * i)\n",
        "\n",
        "# 1\n",
        "# 4\n",
        "# 9"
      ],
      "execution_count": null,
      "outputs": []
    },
    {
      "cell_type": "code",
      "metadata": {
        "id": "EbnjSwYXfi0y"
      },
      "source": [
        "# problem 7\n",
        "for i in range(1, 4):\n",
        "    print(f\"{i} animal(s)\")\n",
        "\n",
        "# 1 animal(s)\n",
        "# 2 animal(s)\n",
        "# 3 animal(s)\n",
        "# 4 animal(s)"
      ],
      "execution_count": null,
      "outputs": []
    },
    {
      "cell_type": "code",
      "metadata": {
        "id": "_HGymUU1fiwb"
      },
      "source": [
        "# problem 6\n",
        "for i in range(1, 5):\n",
        "    print(\"hello\")\n",
        "\n",
        "# hello\n",
        "# hello\n",
        "# hello\n",
        "# hello\n"
      ],
      "execution_count": null,
      "outputs": []
    },
    {
      "cell_type": "code",
      "metadata": {
        "id": "-qculA3Cfitw"
      },
      "source": [
        "# problem 5\n",
        "for i in range(10):\n",
        "    print(i*10)\n",
        "\n",
        "# 0\n",
        "# 10\n",
        "# 20\n",
        "# 30\n",
        "# 40\n",
        "# 50\n",
        "# 60\n",
        "# 70\n",
        "# 80\n",
        "# 90"
      ],
      "execution_count": null,
      "outputs": []
    },
    {
      "cell_type": "code",
      "metadata": {
        "id": "PEO9A1qCfirW"
      },
      "source": [
        "# problem 4\n",
        "for x in range(5):\n",
        "    print(f\"{x} chicken(s)\")\n",
        "\n",
        "# 0 chicken(s)\n",
        "# 1 chicken(s)\n",
        "# 2 chicken(s)\n",
        "# 3 chicken(s)\n",
        "# 4 chicken(s)"
      ],
      "execution_count": null,
      "outputs": []
    },
    {
      "cell_type": "code",
      "metadata": {
        "id": "HeCisyY5fimj"
      },
      "source": [
        "# problem 3\n",
        "for i in range(3):\n",
        "    print(\"coding!\")\n",
        "print(\"fun!\")\n",
        "\n",
        "# prints\n",
        "# coding!\n",
        "# coding!\n",
        "# coding!\n",
        "# fun!"
      ],
      "execution_count": null,
      "outputs": []
    },
    {
      "cell_type": "code",
      "metadata": {
        "id": "ArLh5SNTfifB"
      },
      "source": [
        "# problem 2\n",
        "for i in range(10):\n",
        "    print(i) # prints 0 through 9 each time it goes through the loop so it outputs on new lines"
      ],
      "execution_count": null,
      "outputs": []
    },
    {
      "cell_type": "code",
      "metadata": {
        "id": "IIdXEf11sJ9L"
      },
      "source": [
        "# problem 1\n",
        "for i in range(2):\n",
        "    print(\"dance\") # prints \"dance\" twice "
      ],
      "execution_count": null,
      "outputs": []
    }
  ]
}